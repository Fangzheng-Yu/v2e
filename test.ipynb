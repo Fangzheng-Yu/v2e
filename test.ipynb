{
 "cells": [
  {
   "cell_type": "code",
   "execution_count": 1,
   "metadata": {},
   "outputs": [],
   "source": [
    "import numpy as np\n",
    "import h5py"
   ]
  },
  {
   "cell_type": "code",
   "execution_count": 13,
   "metadata": {},
   "outputs": [
    {
     "data": {
      "text/plain": [
       "array([[ 758, 1254,   46,    0],\n",
       "       [3791, 1192,  180,    1],\n",
       "       [ 758, 1186,  178,    1],\n",
       "       [ 758,  587,  226,    0],\n",
       "       [2274, 1136,  253,    1],\n",
       "       [ 758,  946,  207,    0],\n",
       "       [5308, 1164,  470,    1],\n",
       "       [3033,  950,  228,    0],\n",
       "       [ 758,  955,   21,    1]], dtype=uint32)"
      ]
     },
     "execution_count": 13,
     "metadata": {},
     "output_type": "execute_result"
    }
   ],
   "source": [
    "file = './output/tennis-5/True.h5'\n",
    "data = h5py.File(file, 'a')\n",
    "data['events'][1:10]"
   ]
  }
 ],
 "metadata": {
  "kernelspec": {
   "display_name": "v2e",
   "language": "python",
   "name": "python3"
  },
  "language_info": {
   "codemirror_mode": {
    "name": "ipython",
    "version": 3
   },
   "file_extension": ".py",
   "mimetype": "text/x-python",
   "name": "python",
   "nbconvert_exporter": "python",
   "pygments_lexer": "ipython3",
   "version": "3.9.16"
  },
  "orig_nbformat": 4
 },
 "nbformat": 4,
 "nbformat_minor": 2
}
